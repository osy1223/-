{
  "metadata": {
    "language_info": {
      "codemirror_mode": {
        "name": "python",
        "version": 3
      },
      "file_extension": ".py",
      "mimetype": "text/x-python",
      "name": "python",
      "nbconvert_exporter": "python",
      "pygments_lexer": "ipython3",
      "version": "3.8"
    },
    "kernelspec": {
      "name": "python",
      "display_name": "Python (Pyodide)",
      "language": "python"
    }
  },
  "nbformat_minor": 4,
  "nbformat": 4,
  "cells": [
    {
      "cell_type": "code",
      "source": "import numpy as np",
      "metadata": {
        "trusted": true
      },
      "execution_count": 1,
      "outputs": []
    },
    {
      "cell_type": "code",
      "source": "w11 = np.array([-2, -2])\nw12 = np.array([2,2])\nw2 = np.array([1,1])\nb1 = 3\nb2 = -1\nb3 = -1",
      "metadata": {
        "trusted": true
      },
      "execution_count": 10,
      "outputs": []
    },
    {
      "cell_type": "code",
      "source": "def MLP(x, w, b):\n    y = np.sum(w*x)+b\n    if y <= 0:\n        return 0\n    else:\n        return 1",
      "metadata": {
        "trusted": true
      },
      "execution_count": 11,
      "outputs": []
    },
    {
      "cell_type": "code",
      "source": "def NAND(x1, x2):\n    return MLP(np.array([x1,x2]), w11, b1)",
      "metadata": {
        "trusted": true
      },
      "execution_count": 12,
      "outputs": []
    },
    {
      "cell_type": "code",
      "source": "def OR(x1,x2):\n    return MLP(np.array([x1,x2]), w12, b2)",
      "metadata": {
        "trusted": true
      },
      "execution_count": 13,
      "outputs": []
    },
    {
      "cell_type": "code",
      "source": "def AND(x1, x2):\n    return MLP(np.array([x1,x2]), w2, b3)",
      "metadata": {
        "trusted": true
      },
      "execution_count": 14,
      "outputs": []
    },
    {
      "cell_type": "code",
      "source": "def XOR(x1, x2):\n    return AND(NAND(x1,x2), OR(x1,x2))",
      "metadata": {
        "trusted": true
      },
      "execution_count": 15,
      "outputs": []
    },
    {
      "cell_type": "code",
      "source": "if __name__ == '__main__':\n    for x in [ (0,0), (1,0), (0,1), (1,1)]:\n        y = XOR(x[0], x[1])\n        # print(\"입력 값: \" + str(x) + \" 출력 값: \" + str(y))\n        print( '입력 값: {},  출력 값: {}' .format(x,y) )",
      "metadata": {
        "trusted": true
      },
      "execution_count": 18,
      "outputs": [
        {
          "name": "stdout",
          "text": "입력 값: (0, 0),  출력 값: 0\n입력 값: (1, 0),  출력 값: 1\n입력 값: (0, 1),  출력 값: 1\n입력 값: (1, 1),  출력 값: 0\n",
          "output_type": "stream"
        }
      ]
    },
    {
      "cell_type": "code",
      "source": "",
      "metadata": {},
      "execution_count": null,
      "outputs": []
    }
  ]
}