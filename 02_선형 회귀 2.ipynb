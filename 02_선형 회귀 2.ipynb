{
  "metadata": {
    "language_info": {
      "codemirror_mode": {
        "name": "python",
        "version": 3
      },
      "file_extension": ".py",
      "mimetype": "text/x-python",
      "name": "python",
      "nbconvert_exporter": "python",
      "pygments_lexer": "ipython3",
      "version": "3.8"
    },
    "kernelspec": {
      "name": "python",
      "display_name": "Python (Pyodide)",
      "language": "python"
    }
  },
  "nbformat_minor": 4,
  "nbformat": 4,
  "cells": [
    {
      "cell_type": "code",
      "source": "import numpy as np",
      "metadata": {
        "trusted": true
      },
      "execution_count": 1,
      "outputs": []
    },
    {
      "cell_type": "code",
      "source": "fake_a_b = [3,76]\n\ndata = [ [2,81], [4, 93], [6, 91], [8,97]]\n\nx = [i[0] for i in data]\ny = [i[1] for i in data]",
      "metadata": {
        "trusted": true
      },
      "execution_count": 2,
      "outputs": []
    },
    {
      "cell_type": "code",
      "source": "def predict(x):\n    return fake_a_b[0]*x + fake_a_b[1]",
      "metadata": {
        "trusted": true
      },
      "execution_count": 8,
      "outputs": []
    },
    {
      "cell_type": "code",
      "source": "def mse(y_hat, y):\n    return ( ((y_hat-y)**2 ).mean() ) ",
      "metadata": {
        "trusted": true
      },
      "execution_count": 26,
      "outputs": []
    },
    {
      "cell_type": "code",
      "source": "def mse_val(predict_result, y):\n    return mse(np.array(predict_result), np.array(y))",
      "metadata": {
        "trusted": true
      },
      "execution_count": 10,
      "outputs": []
    },
    {
      "cell_type": "code",
      "source": "predict_result=[]\n\nfor i in range(len(x)):\n    predict_result.append(predict(x[i]))\n    print( \"공부한 시간=%.f, 실제 점수=%.f, 예측 점수=%.f\" % (x[i], y[i], predict(x[i]) ))     ",
      "metadata": {
        "trusted": true
      },
      "execution_count": 18,
      "outputs": [
        {
          "name": "stdout",
          "text": "공부한 시간=2, 실제 점수=81, 예측 점수=82\n공부한 시간=4, 실제 점수=93, 예측 점수=88\n공부한 시간=6, 실제 점수=91, 예측 점수=94\n공부한 시간=8, 실제 점수=97, 예측 점수=100\n",
          "output_type": "stream"
        }
      ]
    },
    {
      "cell_type": "code",
      "source": "print(\"mse 최종값: \" + str(mse_val(predict_result, y)) )",
      "metadata": {
        "trusted": true
      },
      "execution_count": 27,
      "outputs": [
        {
          "name": "stdout",
          "text": "mse 최종값: 11.0\n",
          "output_type": "stream"
        }
      ]
    }
  ]
}