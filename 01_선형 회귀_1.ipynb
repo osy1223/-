{
  "metadata": {
    "language_info": {
      "codemirror_mode": {
        "name": "python",
        "version": 3
      },
      "file_extension": ".py",
      "mimetype": "text/x-python",
      "name": "python",
      "nbconvert_exporter": "python",
      "pygments_lexer": "ipython3",
      "version": "3.8"
    },
    "kernelspec": {
      "name": "python",
      "display_name": "Python (Pyodide)",
      "language": "python"
    }
  },
  "nbformat_minor": 4,
  "nbformat": 4,
  "cells": [
    {
      "cell_type": "code",
      "source": "import numpy as np",
      "metadata": {
        "trusted": true
      },
      "execution_count": 1,
      "outputs": []
    },
    {
      "cell_type": "code",
      "source": "x = [2,4,6,8]\ny = [81,93,91,97]",
      "metadata": {
        "trusted": true
      },
      "execution_count": 2,
      "outputs": []
    },
    {
      "cell_type": "code",
      "source": "mx = np.mean(x)\nmy = np.mean(y)\nprint(\"x의 평균값:{} y의 평균값:{}\".format(mx,my))",
      "metadata": {
        "trusted": true
      },
      "execution_count": 20,
      "outputs": [
        {
          "name": "stdout",
          "text": "x의 평균값:5.0 y의 평균값:90.5\n",
          "output_type": "stream"
        }
      ]
    },
    {
      "cell_type": "code",
      "source": "divisor = sum([(mx - i)**2 for i in x])\n'''\ndivisor = 0\nfor i in x :    \n    a = (mx-i)**2\n    divisor += a    \n'''",
      "metadata": {
        "trusted": true
      },
      "execution_count": 8,
      "outputs": [
        {
          "name": "stdout",
          "text": "20.0\n",
          "output_type": "stream"
        }
      ]
    },
    {
      "cell_type": "code",
      "source": "def top(x, mx, y, my):\n    d = 0\n    for i in range(len(x)):\n        d += (x[i] - mx) * (y[i] - my)\n    return d\n\ndevidend = top(x, my, y, my)",
      "metadata": {
        "trusted": true
      },
      "execution_count": 11,
      "outputs": []
    },
    {
      "cell_type": "code",
      "source": "print(\"분모:{} 분자:{}\".format(divisor, devidend))",
      "metadata": {
        "trusted": true
      },
      "execution_count": 14,
      "outputs": [
        {
          "name": "stdout",
          "text": "분모:20.0 분자:46.0\n",
          "output_type": "stream"
        }
      ]
    },
    {
      "cell_type": "code",
      "source": "a = devidend / divisor\nb = my - ( mx*a )\nprint(\"기울기 a:{} y절편 b:{}\".format(a, b))",
      "metadata": {
        "trusted": true
      },
      "execution_count": 35,
      "outputs": [
        {
          "name": "stdout",
          "text": "기울기 a:2.3 y절편 b:79.0\n",
          "output_type": "stream"
        }
      ]
    }
  ]
}